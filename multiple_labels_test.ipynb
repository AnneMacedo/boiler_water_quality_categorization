{
 "cells": [
  {
   "cell_type": "code",
   "execution_count": 3,
   "metadata": {},
   "outputs": [],
   "source": [
    "import pickle\n",
    "\n",
    "columns = [\n",
    "    'pressure', \n",
    "    'iron', \n",
    "    'copper', \n",
    "    'hardness', \n",
    "    'silica', \n",
    "    'alkalinity', \n",
    "    'conductance'\n",
    "]\n",
    "labels_name = [\n",
    "    'iron_class',\n",
    "    'copper_class',\n",
    "    'hardness_class',\n",
    "    'silica_class',\n",
    "    'alkalinity_class',\n",
    "    'conductance_class',\n",
    "    'conformity_class'\n",
    "]"
   ]
  },
  {
   "cell_type": "code",
   "execution_count": 28,
   "metadata": {},
   "outputs": [],
   "source": [
    "def get_predict_classification(data_input, predictive_label):\n",
    "    filename = f'models_multiple_labels\\{predictive_label}_classifier.sav'\n",
    "    conformity_classifier = pickle.load(open(filename, 'rb'))\n",
    "\n",
    "    x_column = predictive_label.replace(\"_class\", \"\")\n",
    "    data = [data_input['pressure'], data_input[x_column]] if x_column != 'conformity' else list(data_input.values())\n",
    "\n",
    "    row = [data]\n",
    "    yhat = conformity_classifier.predict(row)\n",
    "\n",
    "    return yhat[0]\n",
    "\n",
    "def get_result_classification(values):\n",
    "    data = {}\n",
    "    for value_idx in range(len(columns)):\n",
    "        data[columns[value_idx]] = values[value_idx]\n",
    "\n",
    "    predicts = {}\n",
    "\n",
    "    for label in labels_name:\n",
    "        predicts[label] = 'nonconforming' if get_predict_classification(data, label) == 0 else 'conforming'\n",
    "\n",
    "    return predicts"
   ]
  },
  {
   "cell_type": "code",
   "execution_count": 33,
   "metadata": {},
   "outputs": [
    {
     "data": {
      "text/plain": [
       "{'iron_class': 'conforming',\n",
       " 'copper_class': 'conforming',\n",
       " 'hardness_class': 'conforming',\n",
       " 'silica_class': 'conforming',\n",
       " 'alkalinity_class': 'conforming',\n",
       " 'conductance_class': 'conforming',\n",
       " 'conformity_class': 'conforming'}"
      ]
     },
     "execution_count": 33,
     "metadata": {},
     "output_type": "execute_result"
    }
   ],
   "source": [
    "values = [443, 0.03, 0.01, 0.2, 38.07, 458.51, 4000]\n",
    "get_result_classification(values=values)"
   ]
  },
  {
   "cell_type": "code",
   "execution_count": 34,
   "metadata": {},
   "outputs": [
    {
     "data": {
      "text/plain": [
       "{'iron_class': 'conforming',\n",
       " 'copper_class': 'conforming',\n",
       " 'hardness_class': 'nonconforming',\n",
       " 'silica_class': 'conforming',\n",
       " 'alkalinity_class': 'conforming',\n",
       " 'conductance_class': 'nonconforming',\n",
       " 'conformity_class': 'nonconforming'}"
      ]
     },
     "execution_count": 34,
     "metadata": {},
     "output_type": "execute_result"
    }
   ],
   "source": [
    "values = [443, 0.03, 0.01, 0.4, 38.07, 458.51, 6000]\n",
    "get_result_classification(values=values)"
   ]
  }
 ],
 "metadata": {
  "kernelspec": {
   "display_name": "Python 3 (ipykernel)",
   "language": "python",
   "name": "python3"
  },
  "language_info": {
   "codemirror_mode": {
    "name": "ipython",
    "version": 3
   },
   "file_extension": ".py",
   "mimetype": "text/x-python",
   "name": "python",
   "nbconvert_exporter": "python",
   "pygments_lexer": "ipython3",
   "version": "3.10.9"
  },
  "orig_nbformat": 4
 },
 "nbformat": 4,
 "nbformat_minor": 2
}
