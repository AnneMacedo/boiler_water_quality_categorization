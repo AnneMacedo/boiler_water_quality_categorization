{
 "cells": [
  {
   "cell_type": "code",
   "execution_count": 78,
   "id": "18dcbb7c-9314-4089-9a2c-5ecb8bf00456",
   "metadata": {},
   "outputs": [],
   "source": [
    "import pandas as pd\n",
    "import numpy as np\n",
    "import matplotlib.pyplot as plt \n",
    "\n",
    "# evaluate extra trees algorithm for classification\n",
    "from numpy import mean\n",
    "from numpy import std\n",
    "\n",
    "# from sklearn.datasets import make_classification\n",
    "from sklearn.model_selection import cross_val_score\n",
    "from sklearn.model_selection import RepeatedStratifiedKFold\n",
    "from sklearn.ensemble import ExtraTreesClassifier\n",
    "from sklearn.model_selection import train_test_split\n",
    "from sklearn.metrics import confusion_matrix\n",
    "# from sklearn.metrics import plot_confusion_matrix\n",
    "\n",
    "from imblearn.over_sampling import SMOTE\n",
    "\n",
    "from sklearn.metrics import ConfusionMatrixDisplay\n",
    "from sklearn.metrics import confusion_matrix\n",
    "from sklearn.metrics import classification_report"
   ]
  },
  {
   "cell_type": "code",
   "execution_count": 80,
   "id": "7b442a3c-ac91-4ebf-a374-d849584e5dde",
   "metadata": {},
   "outputs": [],
   "source": [
    "def split_train_data(data, predictive_label, apply_smote = True):\n",
    "\n",
    "    X = data.drop(\"conformity_class\", axis=1)\n",
    "    y = data[predictive_label]\n",
    "    \n",
    "    if apply_smote:\n",
    "        # SMOTE\n",
    "        smote = SMOTE(random_state=32)\n",
    "        X, y = smote.fit_resample(X, y)\n",
    "\n",
    "\n",
    "    X_train, X_test, y_train, y_test = train_test_split(\n",
    "        X, y, test_size=0.30, random_state=999\n",
    "    )\n",
    "    \n",
    "    return X_train, X_test, y_train, y_test\n",
    "    \n",
    "def model_report_performance(X, y):\n",
    "    # define the model\n",
    "    model = ExtraTreesClassifier()\n",
    "    \n",
    "    # evaluate the model\n",
    "    cv = RepeatedStratifiedKFold(n_splits=10, n_repeats=3, random_state=1)\n",
    "    n_scores = cross_val_score(model, X, y, scoring='accuracy', cv=cv, n_jobs=-1, error_score='raise')\n",
    "   \n",
    "    # report performance\n",
    "    print('Accuracy: %.3f (%.3f)' % (mean(n_scores), std(n_scores)))\n",
    "    \n",
    "def get_confusion_matrix(y_test, y_pred, classifier):\n",
    "    cm = confusion_matrix(y_test, y_pred, labels=classifier.classes_)\n",
    "    color = 'white'\n",
    "    disp = ConfusionMatrixDisplay(confusion_matrix=cm, display_labels=classifier.classes_)\n",
    "    disp.plot()\n",
    "    plt.show()"
   ]
  },
  {
   "cell_type": "code",
   "execution_count": 70,
   "id": "8c8f78f2-0e89-4c1c-bc3a-461cf2263abe",
   "metadata": {},
   "outputs": [],
   "source": [
    "# Visualize the proportion of borrowers\n",
    "load_data = pd.read_csv(\"synthetic_conformity_data.csv\")\n",
    "\n",
    "load_data[\"conformity_class\"] = np.where(\n",
    "    load_data[\"conformity_class\"] == \"conforming\", 1, 0\n",
    ")"
   ]
  },
  {
   "cell_type": "code",
   "execution_count": 71,
   "id": "70baf986-135e-458b-9a98-3a8a5f819e54",
   "metadata": {},
   "outputs": [],
   "source": [
    "# NORMALIZANDO OS DADOS \n",
    "    \n",
    "df_min_max_scaled = load_data.copy() \n",
    "for column in df_min_max_scaled.columns: \n",
    "    df_min_max_scaled[column] = (df_min_max_scaled[column] - df_min_max_scaled[column].min()) / (df_min_max_scaled[column].max() - df_min_max_scaled[column].min())     \n",
    "df_norm = df_min_max_scaled"
   ]
  },
  {
   "cell_type": "code",
   "execution_count": 72,
   "id": "529be63d-3d38-45ae-923d-65e080859abc",
   "metadata": {},
   "outputs": [
    {
     "name": "stdout",
     "output_type": "stream",
     "text": [
      "Accuracy: 0.932 (0.045)\n"
     ]
    },
    {
     "data": {
      "image/png": "[encoded data removed]",
      "text/plain": [
       "<Figure size 432x288 with 2 Axes>"
      ]
     },
     "metadata": {
      "needs_background": "light"
     },
     "output_type": "display_data"
    },
    {
     "name": "stdout",
     "output_type": "stream",
     "text": [
      "              precision    recall  f1-score   support\n",
      "\n",
      "           0       0.92      0.91      0.92       102\n",
      "           1       0.91      0.92      0.91        96\n",
      "\n",
      "    accuracy                           0.91       198\n",
      "   macro avg       0.91      0.91      0.91       198\n",
      "weighted avg       0.91      0.91      0.91       198\n",
      "\n"
     ]
    }
   ],
   "source": [
    "predictive_label = \"conformity_class\"\n",
    "\n",
    "# TESTE 1: SMOTE data\n",
    "X_train, X_test, y_train, y_test = split_train_data(load_data, predictive_label)\n",
    "\n",
    "model_report_performance(X_train, y_train)\n",
    "\n",
    "# fit the model on the whole dataset\n",
    "classifier = ExtraTreesClassifier()\n",
    "classifier.fit(X_train.values, y_train.values)\n",
    "\n",
    "# test model\n",
    "y_pred  = classifier.predict(X_test.values)\n",
    "\n",
    "# confusion_matrix\n",
    "get_confusion_matrix(y_test, y_pred, classifier)\n",
    "print(classification_report(y_test, y_pred))"
   ]
  },
  {
   "cell_type": "code",
   "execution_count": 77,
   "id": "8e7410e4-7412-46b7-bd6d-0c544b17dccf",
   "metadata": {},
   "outputs": [
    {
     "data": {
      "image/png": "[encoded data removed]",
      "text/plain": [
       "<Figure size 432x288 with 2 Axes>"
      ]
     },
     "metadata": {
      "needs_background": "light"
     },
     "output_type": "display_data"
    },
    {
     "name": "stdout",
     "output_type": "stream",
     "text": [
      "              precision    recall  f1-score   support\n",
      "\n",
      "           0       0.82      1.00      0.90        99\n",
      "           1       0.00      0.00      0.00        21\n",
      "\n",
      "    accuracy                           0.82       120\n",
      "   macro avg       0.41      0.50      0.45       120\n",
      "weighted avg       0.68      0.82      0.75       120\n",
      "\n"
     ]
    },
    {
     "name": "stderr",
     "output_type": "stream",
     "text": [
      "C:\\ProgramData\\Anaconda3\\lib\\site-packages\\sklearn\\metrics\\_classification.py:1318: UndefinedMetricWarning:\n",
      "\n",
      "Precision and F-score are ill-defined and being set to 0.0 in labels with no predicted samples. Use `zero_division` parameter to control this behavior.\n",
      "\n",
      "C:\\ProgramData\\Anaconda3\\lib\\site-packages\\sklearn\\metrics\\_classification.py:1318: UndefinedMetricWarning:\n",
      "\n",
      "Precision and F-score are ill-defined and being set to 0.0 in labels with no predicted samples. Use `zero_division` parameter to control this behavior.\n",
      "\n",
      "C:\\ProgramData\\Anaconda3\\lib\\site-packages\\sklearn\\metrics\\_classification.py:1318: UndefinedMetricWarning:\n",
      "\n",
      "Precision and F-score are ill-defined and being set to 0.0 in labels with no predicted samples. Use `zero_division` parameter to control this behavior.\n",
      "\n"
     ]
    }
   ],
   "source": [
    "# TESTE 2: Dados sem SMOTE\n",
    "\n",
    "X_train, X_test, y_train, y_test = split_train_data(load_data, predictive_label, apply_smote = False)\n",
    "\n",
    "# test model\n",
    "y_pred  = classifier.predict(X_test.values)\n",
    "\n",
    "# confusion_matrix\n",
    "get_confusion_matrix(y_test, y_pred, classifier)\n",
    "print(classification_report(y_test, y_pred))"
   ]
  },
  {
   "cell_type": "code",
   "execution_count": 75,
   "id": "2a48b405-af78-4137-a63c-d6b8f8fc9186",
   "metadata": {},
   "outputs": [],
   "source": [
    "# TESTE 3: Normalize and SMOTE data\n",
    "\n",
    "# NORMALIZANDO OS DADOS \n",
    "    \n",
    "df_min_max_scaled = load_data.copy() \n",
    "for column in df_min_max_scaled.columns: \n",
    "    df_min_max_scaled[column] = (df_min_max_scaled[column] - df_min_max_scaled[column].min()) / (df_min_max_scaled[column].max() - df_min_max_scaled[column].min())     \n",
    "\n",
    "# load_data.plot(kind = 'bar')\n",
    "\n",
    "# df_min_max_scaled.plot(kind = 'bar')"
   ]
  },
  {
   "cell_type": "code",
   "execution_count": 81,
   "id": "ff914e5b-4791-4130-bd04-5fea954801b1",
   "metadata": {},
   "outputs": [
    {
     "name": "stdout",
     "output_type": "stream",
     "text": [
      "Accuracy: 0.942 (0.035)\n"
     ]
    },
    {
     "data": {
      "image/png": "[encoded data removed]",
      "text/plain": [
       "<Figure size 432x288 with 2 Axes>"
      ]
     },
     "metadata": {
      "needs_background": "light"
     },
     "output_type": "display_data"
    },
    {
     "name": "stdout",
     "output_type": "stream",
     "text": [
      "              precision    recall  f1-score   support\n",
      "\n",
      "         0.0       0.92      0.96      0.94       102\n",
      "         1.0       0.96      0.92      0.94        96\n",
      "\n",
      "    accuracy                           0.94       198\n",
      "   macro avg       0.94      0.94      0.94       198\n",
      "weighted avg       0.94      0.94      0.94       198\n",
      "\n"
     ]
    }
   ],
   "source": [
    "# TESTE 3: Normalize and SMOTE data\n",
    "\n",
    "X_train, X_test, y_train, y_test = split_train_data(df_min_max_scaled, predictive_label)\n",
    "\n",
    "model_report_performance(X_train, y_train)\n",
    "\n",
    "# fit the model on the whole dataset\n",
    "classifier = ExtraTreesClassifier()\n",
    "classifier.fit(X_train.values, y_train.values)\n",
    "\n",
    "# test model\n",
    "y_pred  = classifier.predict(X_test.values)\n",
    "\n",
    "# confusion_matrix\n",
    "get_confusion_matrix(y_test, y_pred, classifier)\n",
    "print(classification_report(y_test, y_pred))"
   ]
  },
  {
   "cell_type": "code",
   "execution_count": null,
   "id": "d34f22da-3b84-4486-a396-d88dd4b1318f",
   "metadata": {},
   "outputs": [],
   "source": []
  }
 ],
 "metadata": {
  "kernelspec": {
   "display_name": "Python 3 (ipykernel)",
   "language": "python",
   "name": "python3"
  },
  "language_info": {
   "codemirror_mode": {
    "name": "ipython",
    "version": 3
   },
   "file_extension": ".py",
   "mimetype": "text/x-python",
   "name": "python",
   "nbconvert_exporter": "python",
   "pygments_lexer": "ipython3",
   "version": "3.9.12"
  }
 },
 "nbformat": 4,
 "nbformat_minor": 5
}
